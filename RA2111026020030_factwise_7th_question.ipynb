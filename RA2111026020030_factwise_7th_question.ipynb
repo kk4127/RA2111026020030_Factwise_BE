{
 "cells": [
  {
   "cell_type": "code",
   "execution_count": 1,
   "id": "d1837fd7",
   "metadata": {},
   "outputs": [
    {
     "name": "stdout",
     "output_type": "stream",
     "text": [
      "12\n",
      "4\n",
      "55\n"
     ]
    }
   ],
   "source": [
    "def max_point(cardPoints,k):\n",
    "    n = len(cardPoints)\n",
    "    total = sum(cardPoints[:k])\n",
    "    max_score = total\n",
    "    for i in range(1,k+1):\n",
    "        total += cardPoints[-i] - cardPoints[k-i]\n",
    "        max_score = max(max_score,total)\n",
    "    return max_score\n",
    "print(max_point([1,2,3,4,5,6,1],3))\n",
    "print(max_point([2,2,2],2))\n",
    "print(max_point([9,7,7,9,7,7,9],7))"
   ]
  },
  {
   "cell_type": "code",
   "execution_count": null,
   "id": "074ef593",
   "metadata": {},
   "outputs": [],
   "source": []
  }
 ],
 "metadata": {
  "kernelspec": {
   "display_name": "Python 3 (ipykernel)",
   "language": "python",
   "name": "python3"
  },
  "language_info": {
   "codemirror_mode": {
    "name": "ipython",
    "version": 3
   },
   "file_extension": ".py",
   "mimetype": "text/x-python",
   "name": "python",
   "nbconvert_exporter": "python",
   "pygments_lexer": "ipython3",
   "version": "3.9.13"
  }
 },
 "nbformat": 4,
 "nbformat_minor": 5
}
