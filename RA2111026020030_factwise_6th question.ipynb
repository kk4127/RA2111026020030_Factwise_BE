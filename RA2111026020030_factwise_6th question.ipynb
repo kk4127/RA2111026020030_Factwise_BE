{
 "cells": [
  {
   "cell_type": "code",
   "execution_count": 3,
   "id": "50b01d64",
   "metadata": {},
   "outputs": [
    {
     "name": "stdout",
     "output_type": "stream",
     "text": [
      "21124\n"
     ]
    }
   ],
   "source": [
    "def num_to_words(n):\n",
    "    if n == 0:\n",
    "        return \"zero\"\n",
    "    one = [\"\",\"one\",\"two\",\"three\",\"four\",\"five\",\"six\",\"seven\",\"eight\",\"nine\"]\n",
    "    teens = [\"\",\"eleven\",\"twelve\",\"thirteen\",\"fourteen\",\"fifteen\",\"sixteen\",\"seventeen\",\"eighteen\",\"nineteen\"]\n",
    "    ten = [\"\",\"ten\",\"twenty\",\"thirty\",\"forty\",\"fifty\",\"sixty\",\"seventy\",\"eighty\",\"ninety\"]\n",
    "    if n == 0:\n",
    "        return \"\"\n",
    "    elif n<10:\n",
    "        return one[n]\n",
    "    elif 10<n<20:\n",
    "        return teens[n-10]\n",
    "    elif n < 100:\n",
    "        return ten[n//10] + one[n % 10]\n",
    "    elif n<1000:\n",
    "        if n % 100 == 0:\n",
    "            return one[n//100]+\"hundred\"\n",
    "        else:\n",
    "            return one[n//100]+\"hundredand\" + num_to_words(n % 100)\n",
    "    elif n == 1000:\n",
    "        return \"onethousand\"\n",
    "def letters(start,end):\n",
    "    tol_letter = 0\n",
    "    for i in range(start,end+1):\n",
    "        word = num_to_words(i)\n",
    "        tol_letter += len(word.replace(\" \",\"\").replace(\"-\",\"\"))\n",
    "    return tol_letter\n",
    "print(letters(1,1000))\n",
    "        "
   ]
  },
  {
   "cell_type": "code",
   "execution_count": null,
   "id": "54fc8818",
   "metadata": {},
   "outputs": [],
   "source": []
  }
 ],
 "metadata": {
  "kernelspec": {
   "display_name": "Python 3 (ipykernel)",
   "language": "python",
   "name": "python3"
  },
  "language_info": {
   "codemirror_mode": {
    "name": "ipython",
    "version": 3
   },
   "file_extension": ".py",
   "mimetype": "text/x-python",
   "name": "python",
   "nbconvert_exporter": "python",
   "pygments_lexer": "ipython3",
   "version": "3.9.13"
  }
 },
 "nbformat": 4,
 "nbformat_minor": 5
}
